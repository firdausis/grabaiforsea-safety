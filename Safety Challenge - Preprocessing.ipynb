{
 "cells": [
  {
   "cell_type": "markdown",
   "metadata": {},
   "source": [
    "<h1>Safety Challenge - Preprocessing</h1>"
   ]
  },
  {
   "cell_type": "markdown",
   "metadata": {},
   "source": [
    "This is the preprocessing step of my submission for the [Grab AI for SEA - Safety Challenge](https://www.aiforsea.com/safety). Given a dataset, this will produce a file containing feature data that will be used in the training or testing step.\n",
    "For training purpose, assume this [dataset](https://s3-ap-southeast-1.amazonaws.com/grab-aiforsea-dataset/safety.zip) is already extracted in the same folder with this notebook. For testing purpose, the config below may need to be changed."
   ]
  },
  {
   "cell_type": "code",
   "execution_count": 1,
   "metadata": {},
   "outputs": [],
   "source": [
    "INPUT_DATASET_FEATURES_DIR = './safety/features/'\n",
    "INPUT_DATASET_LABEL_DIR = './safety/labels/'\n",
    "OUTPUT_FEATURES = 'dataset-ready.csv'"
   ]
  },
  {
   "cell_type": "markdown",
   "metadata": {},
   "source": [
    "<h3>Import Libraries</h3>"
   ]
  },
  {
   "cell_type": "code",
   "execution_count": 2,
   "metadata": {},
   "outputs": [],
   "source": [
    "import pandas as pd\n",
    "import numpy as np\n",
    "import glob, os"
   ]
  },
  {
   "cell_type": "markdown",
   "metadata": {},
   "source": [
    "<h3>Load Data</h3>"
   ]
  },
  {
   "cell_type": "code",
   "execution_count": 3,
   "metadata": {
    "scrolled": true
   },
   "outputs": [],
   "source": [
    "telematics = pd.concat(map(pd.read_csv, glob.glob(os.path.join(INPUT_DATASET_FEATURES_DIR, \"*.csv\"))))\n",
    "labels = pd.concat(map(pd.read_csv, glob.glob(os.path.join(INPUT_DATASET_LABEL_DIR, \"*.csv\"))))"
   ]
  },
  {
   "cell_type": "markdown",
   "metadata": {},
   "source": [
    "<h3>Exploration and Cleansing</h3>"
   ]
  },
  {
   "cell_type": "markdown",
   "metadata": {},
   "source": [
    "<h4>Telematics</h4>"
   ]
  },
  {
   "cell_type": "code",
   "execution_count": 4,
   "metadata": {},
   "outputs": [
    {
     "data": {
      "text/html": [
       "<div>\n",
       "<style scoped>\n",
       "    .dataframe tbody tr th:only-of-type {\n",
       "        vertical-align: middle;\n",
       "    }\n",
       "\n",
       "    .dataframe tbody tr th {\n",
       "        vertical-align: top;\n",
       "    }\n",
       "\n",
       "    .dataframe thead th {\n",
       "        text-align: right;\n",
       "    }\n",
       "</style>\n",
       "<table border=\"1\" class=\"dataframe\">\n",
       "  <thead>\n",
       "    <tr style=\"text-align: right;\">\n",
       "      <th></th>\n",
       "      <th>bookingID</th>\n",
       "      <th>Accuracy</th>\n",
       "      <th>Bearing</th>\n",
       "      <th>acceleration_x</th>\n",
       "      <th>acceleration_y</th>\n",
       "      <th>acceleration_z</th>\n",
       "      <th>gyro_x</th>\n",
       "      <th>gyro_y</th>\n",
       "      <th>gyro_z</th>\n",
       "      <th>second</th>\n",
       "      <th>Speed</th>\n",
       "    </tr>\n",
       "  </thead>\n",
       "  <tbody>\n",
       "    <tr>\n",
       "      <th>0</th>\n",
       "      <td>1202590843006</td>\n",
       "      <td>3.000</td>\n",
       "      <td>353.0</td>\n",
       "      <td>1.228867</td>\n",
       "      <td>8.900100</td>\n",
       "      <td>3.986968</td>\n",
       "      <td>0.008221</td>\n",
       "      <td>0.002269</td>\n",
       "      <td>-0.009966</td>\n",
       "      <td>1362.0</td>\n",
       "      <td>0.000000</td>\n",
       "    </tr>\n",
       "    <tr>\n",
       "      <th>1</th>\n",
       "      <td>274877907034</td>\n",
       "      <td>9.293</td>\n",
       "      <td>17.0</td>\n",
       "      <td>0.032775</td>\n",
       "      <td>8.659933</td>\n",
       "      <td>4.737300</td>\n",
       "      <td>0.024629</td>\n",
       "      <td>0.004028</td>\n",
       "      <td>-0.010858</td>\n",
       "      <td>257.0</td>\n",
       "      <td>0.190000</td>\n",
       "    </tr>\n",
       "    <tr>\n",
       "      <th>2</th>\n",
       "      <td>884763263056</td>\n",
       "      <td>3.000</td>\n",
       "      <td>189.0</td>\n",
       "      <td>1.139675</td>\n",
       "      <td>9.545974</td>\n",
       "      <td>1.951334</td>\n",
       "      <td>-0.006899</td>\n",
       "      <td>-0.015080</td>\n",
       "      <td>0.001122</td>\n",
       "      <td>973.0</td>\n",
       "      <td>0.667059</td>\n",
       "    </tr>\n",
       "    <tr>\n",
       "      <th>3</th>\n",
       "      <td>1073741824054</td>\n",
       "      <td>3.900</td>\n",
       "      <td>126.0</td>\n",
       "      <td>3.871543</td>\n",
       "      <td>10.386364</td>\n",
       "      <td>-0.136474</td>\n",
       "      <td>0.001344</td>\n",
       "      <td>-0.339601</td>\n",
       "      <td>-0.017956</td>\n",
       "      <td>902.0</td>\n",
       "      <td>7.913285</td>\n",
       "    </tr>\n",
       "    <tr>\n",
       "      <th>4</th>\n",
       "      <td>1056561954943</td>\n",
       "      <td>3.900</td>\n",
       "      <td>50.0</td>\n",
       "      <td>-0.112882</td>\n",
       "      <td>10.550960</td>\n",
       "      <td>-1.560110</td>\n",
       "      <td>0.130568</td>\n",
       "      <td>-0.061697</td>\n",
       "      <td>0.161530</td>\n",
       "      <td>820.0</td>\n",
       "      <td>20.419409</td>\n",
       "    </tr>\n",
       "  </tbody>\n",
       "</table>\n",
       "</div>"
      ],
      "text/plain": [
       "       bookingID  Accuracy  Bearing  acceleration_x  acceleration_y  \\\n",
       "0  1202590843006     3.000    353.0        1.228867        8.900100   \n",
       "1   274877907034     9.293     17.0        0.032775        8.659933   \n",
       "2   884763263056     3.000    189.0        1.139675        9.545974   \n",
       "3  1073741824054     3.900    126.0        3.871543       10.386364   \n",
       "4  1056561954943     3.900     50.0       -0.112882       10.550960   \n",
       "\n",
       "   acceleration_z    gyro_x    gyro_y    gyro_z  second      Speed  \n",
       "0        3.986968  0.008221  0.002269 -0.009966  1362.0   0.000000  \n",
       "1        4.737300  0.024629  0.004028 -0.010858   257.0   0.190000  \n",
       "2        1.951334 -0.006899 -0.015080  0.001122   973.0   0.667059  \n",
       "3       -0.136474  0.001344 -0.339601 -0.017956   902.0   7.913285  \n",
       "4       -1.560110  0.130568 -0.061697  0.161530   820.0  20.419409  "
      ]
     },
     "execution_count": 4,
     "metadata": {},
     "output_type": "execute_result"
    }
   ],
   "source": [
    "telematics.head()"
   ]
  },
  {
   "cell_type": "code",
   "execution_count": 5,
   "metadata": {},
   "outputs": [
    {
     "data": {
      "text/plain": [
       "16135561"
      ]
     },
     "execution_count": 5,
     "metadata": {},
     "output_type": "execute_result"
    }
   ],
   "source": [
    "telematics.shape[0]"
   ]
  },
  {
   "cell_type": "code",
   "execution_count": 6,
   "metadata": {},
   "outputs": [
    {
     "data": {
      "text/plain": [
       "20000"
      ]
     },
     "execution_count": 6,
     "metadata": {},
     "output_type": "execute_result"
    }
   ],
   "source": [
    "telematics['bookingID'].unique().size"
   ]
  },
  {
   "cell_type": "markdown",
   "metadata": {},
   "source": [
    "Remove data with invalid speed (<0 and >300 km/s)"
   ]
  },
  {
   "cell_type": "code",
   "execution_count": 7,
   "metadata": {},
   "outputs": [
    {
     "data": {
      "text/plain": [
       "15895172"
      ]
     },
     "execution_count": 7,
     "metadata": {},
     "output_type": "execute_result"
    }
   ],
   "source": [
    "filtered_telematics = telematics[(telematics['Speed'] >= 0) & (telematics['Speed'] <= 83)]\n",
    "filtered_telematics.shape[0]"
   ]
  },
  {
   "cell_type": "markdown",
   "metadata": {},
   "source": [
    "Remove data with low accuracy"
   ]
  },
  {
   "cell_type": "code",
   "execution_count": 8,
   "metadata": {},
   "outputs": [
    {
     "data": {
      "text/plain": [
       "15875645"
      ]
     },
     "execution_count": 8,
     "metadata": {},
     "output_type": "execute_result"
    }
   ],
   "source": [
    "filtered_telematics = filtered_telematics[filtered_telematics['Accuracy'] <= 50]\n",
    "filtered_telematics.shape[0]"
   ]
  },
  {
   "cell_type": "markdown",
   "metadata": {},
   "source": [
    "Remove invalid trips"
   ]
  },
  {
   "cell_type": "code",
   "execution_count": 9,
   "metadata": {},
   "outputs": [
    {
     "data": {
      "text/html": [
       "<div>\n",
       "<style scoped>\n",
       "    .dataframe tbody tr th:only-of-type {\n",
       "        vertical-align: middle;\n",
       "    }\n",
       "\n",
       "    .dataframe tbody tr th {\n",
       "        vertical-align: top;\n",
       "    }\n",
       "\n",
       "    .dataframe thead tr th {\n",
       "        text-align: left;\n",
       "    }\n",
       "\n",
       "    .dataframe thead tr:last-of-type th {\n",
       "        text-align: right;\n",
       "    }\n",
       "</style>\n",
       "<table border=\"1\" class=\"dataframe\">\n",
       "  <thead>\n",
       "    <tr>\n",
       "      <th></th>\n",
       "      <th colspan=\"2\" halign=\"left\">second</th>\n",
       "    </tr>\n",
       "    <tr>\n",
       "      <th></th>\n",
       "      <th>max</th>\n",
       "      <th>count</th>\n",
       "    </tr>\n",
       "    <tr>\n",
       "      <th>bookingID</th>\n",
       "      <th></th>\n",
       "      <th></th>\n",
       "    </tr>\n",
       "  </thead>\n",
       "  <tbody>\n",
       "    <tr>\n",
       "      <th>0</th>\n",
       "      <td>1589.0</td>\n",
       "      <td>1003</td>\n",
       "    </tr>\n",
       "    <tr>\n",
       "      <th>1</th>\n",
       "      <td>1034.0</td>\n",
       "      <td>838</td>\n",
       "    </tr>\n",
       "    <tr>\n",
       "      <th>2</th>\n",
       "      <td>825.0</td>\n",
       "      <td>195</td>\n",
       "    </tr>\n",
       "    <tr>\n",
       "      <th>4</th>\n",
       "      <td>1094.0</td>\n",
       "      <td>1094</td>\n",
       "    </tr>\n",
       "    <tr>\n",
       "      <th>6</th>\n",
       "      <td>1094.0</td>\n",
       "      <td>1095</td>\n",
       "    </tr>\n",
       "  </tbody>\n",
       "</table>\n",
       "</div>"
      ],
      "text/plain": [
       "           second      \n",
       "              max count\n",
       "bookingID              \n",
       "0          1589.0  1003\n",
       "1          1034.0   838\n",
       "2           825.0   195\n",
       "4          1094.0  1094\n",
       "6          1094.0  1095"
      ]
     },
     "execution_count": 9,
     "metadata": {},
     "output_type": "execute_result"
    }
   ],
   "source": [
    "trips = filtered_telematics[['bookingID','second']].groupby('bookingID').agg(['max','count'])\n",
    "trips.head()"
   ]
  },
  {
   "cell_type": "code",
   "execution_count": 10,
   "metadata": {},
   "outputs": [
    {
     "data": {
      "text/plain": [
       "15874802"
      ]
     },
     "execution_count": 10,
     "metadata": {},
     "output_type": "execute_result"
    }
   ],
   "source": [
    "bookingID_to_remove = trips[(trips[('second', 'max')] > 43200) | (trips[('second', 'count')] < 100)].index.tolist()\n",
    "filtered_telematics = filtered_telematics[~filtered_telematics['bookingID'].isin(bookingID_to_remove)]\n",
    "filtered_telematics.shape[0]"
   ]
  },
  {
   "cell_type": "code",
   "execution_count": 11,
   "metadata": {},
   "outputs": [
    {
     "data": {
      "text/plain": [
       "19959"
      ]
     },
     "execution_count": 11,
     "metadata": {},
     "output_type": "execute_result"
    }
   ],
   "source": [
    "filtered_telematics['bookingID'].unique().size"
   ]
  },
  {
   "cell_type": "markdown",
   "metadata": {},
   "source": [
    "<h4>Labels</h4>"
   ]
  },
  {
   "cell_type": "code",
   "execution_count": 12,
   "metadata": {},
   "outputs": [
    {
     "data": {
      "text/html": [
       "<div>\n",
       "<style scoped>\n",
       "    .dataframe tbody tr th:only-of-type {\n",
       "        vertical-align: middle;\n",
       "    }\n",
       "\n",
       "    .dataframe tbody tr th {\n",
       "        vertical-align: top;\n",
       "    }\n",
       "\n",
       "    .dataframe thead th {\n",
       "        text-align: right;\n",
       "    }\n",
       "</style>\n",
       "<table border=\"1\" class=\"dataframe\">\n",
       "  <thead>\n",
       "    <tr style=\"text-align: right;\">\n",
       "      <th></th>\n",
       "      <th>bookingID</th>\n",
       "      <th>label</th>\n",
       "    </tr>\n",
       "  </thead>\n",
       "  <tbody>\n",
       "    <tr>\n",
       "      <th>0</th>\n",
       "      <td>111669149733</td>\n",
       "      <td>0</td>\n",
       "    </tr>\n",
       "    <tr>\n",
       "      <th>1</th>\n",
       "      <td>335007449205</td>\n",
       "      <td>1</td>\n",
       "    </tr>\n",
       "    <tr>\n",
       "      <th>2</th>\n",
       "      <td>171798691856</td>\n",
       "      <td>0</td>\n",
       "    </tr>\n",
       "    <tr>\n",
       "      <th>3</th>\n",
       "      <td>1520418422900</td>\n",
       "      <td>0</td>\n",
       "    </tr>\n",
       "    <tr>\n",
       "      <th>4</th>\n",
       "      <td>798863917116</td>\n",
       "      <td>0</td>\n",
       "    </tr>\n",
       "  </tbody>\n",
       "</table>\n",
       "</div>"
      ],
      "text/plain": [
       "       bookingID  label\n",
       "0   111669149733      0\n",
       "1   335007449205      1\n",
       "2   171798691856      0\n",
       "3  1520418422900      0\n",
       "4   798863917116      0"
      ]
     },
     "execution_count": 12,
     "metadata": {},
     "output_type": "execute_result"
    }
   ],
   "source": [
    "labels.head()"
   ]
  },
  {
   "cell_type": "code",
   "execution_count": 13,
   "metadata": {},
   "outputs": [
    {
     "data": {
      "text/plain": [
       "19977"
      ]
     },
     "execution_count": 13,
     "metadata": {},
     "output_type": "execute_result"
    }
   ],
   "source": [
    "filtered_labels = labels[labels['bookingID'].isin(filtered_telematics['bookingID'].unique())]\n",
    "filtered_labels.shape[0]"
   ]
  },
  {
   "cell_type": "code",
   "execution_count": 14,
   "metadata": {},
   "outputs": [
    {
     "data": {
      "text/plain": [
       "19959"
      ]
     },
     "execution_count": 14,
     "metadata": {},
     "output_type": "execute_result"
    }
   ],
   "source": [
    "filtered_labels['bookingID'].unique().size"
   ]
  },
  {
   "cell_type": "markdown",
   "metadata": {},
   "source": [
    "Since there are some duplicate bookings, remove them and keep label 1 (dangerous) if any."
   ]
  },
  {
   "cell_type": "code",
   "execution_count": 15,
   "metadata": {},
   "outputs": [
    {
     "data": {
      "text/plain": [
       "19959"
      ]
     },
     "execution_count": 15,
     "metadata": {},
     "output_type": "execute_result"
    }
   ],
   "source": [
    "filtered_labels = filtered_labels.sort_values(by='label', ascending=False)\n",
    "filtered_labels = filtered_labels.drop_duplicates(subset='bookingID', keep='first')\n",
    "filtered_labels.shape[0]"
   ]
  },
  {
   "cell_type": "markdown",
   "metadata": {},
   "source": [
    "<h3>Feature Extraction</h3>"
   ]
  },
  {
   "cell_type": "markdown",
   "metadata": {},
   "source": [
    "Calculate magnitude of acceleration and gyro"
   ]
  },
  {
   "cell_type": "code",
   "execution_count": 16,
   "metadata": {
    "scrolled": true
   },
   "outputs": [],
   "source": [
    "filtered_telematics['acceleration'] = np.sqrt(filtered_telematics['acceleration_x']**2 \\\n",
    "                                              + filtered_telematics['acceleration_y']**2 \\\n",
    "                                              + filtered_telematics['acceleration_z']**2)\n",
    "filtered_telematics['gyro'] = np.sqrt(\\\n",
    "                                      filtered_telematics['gyro_x']**2 \\\n",
    "                                      + filtered_telematics['gyro_y']**2 \\\n",
    "                                      + filtered_telematics['gyro_z']**2)\n",
    "# filtered_telematics.head()"
   ]
  },
  {
   "cell_type": "markdown",
   "metadata": {},
   "source": [
    "Extract features:\n",
    "- Speed (max, mean, IQR, max change)\n",
    "- Acceleration (min, max, mean, IQR, max change)\n",
    "- Gyro (min, max, mean, IQR, max change)\n",
    "- Duration\n",
    "- Distance\n",
    "- Rotation"
   ]
  },
  {
   "cell_type": "code",
   "execution_count": 17,
   "metadata": {},
   "outputs": [],
   "source": [
    "def iqr():\n",
    "    def iqr_(x):\n",
    "        return x.quantile(0.75) - x.quantile(0.25)\n",
    "    iqr_.__name__ = 'iqr'\n",
    "    return iqr_\n",
    "\n",
    "aggregated_telematics = filtered_telematics[['bookingID','Speed','acceleration','gyro','second']]\\\n",
    "    .groupby('bookingID')\\\n",
    "    .agg({'Speed': [np.max, np.mean, iqr()], \\\n",
    "         'acceleration': [np.max, np.mean, iqr()], \\\n",
    "         'gyro': [np.max, np.mean, iqr()],\n",
    "         'second': [np.max]})\n",
    "# aggregated_telematics.head()"
   ]
  },
  {
   "cell_type": "code",
   "execution_count": 18,
   "metadata": {},
   "outputs": [],
   "source": [
    "df = pd.DataFrame()\n",
    "df['speed_max'] = aggregated_telematics[('Speed','amax')]\n",
    "df['speed_mean'] = aggregated_telematics[('Speed','mean')]\n",
    "df['speed_iqr'] = aggregated_telematics[('Speed','iqr')]\n",
    "\n",
    "df['acceleration_max'] = aggregated_telematics[('acceleration','amax')]\n",
    "df['acceleration_mean'] = aggregated_telematics[('acceleration','mean')]\n",
    "df['acceleration_iqr'] = aggregated_telematics[('acceleration','iqr')]\n",
    "\n",
    "df['gyro_max'] = aggregated_telematics[('gyro','amax')]\n",
    "df['gyro_mean'] = aggregated_telematics[('gyro','mean')]\n",
    "df['gyro_iqr'] = aggregated_telematics[('gyro','iqr')]\n",
    "\n",
    "df['duration'] = aggregated_telematics[('second','amax')]\n",
    "df['distance'] = df['duration'] * df['speed_mean']\n",
    "df['rotation'] = df['duration'] * df['gyro_mean']"
   ]
  },
  {
   "cell_type": "code",
   "execution_count": 19,
   "metadata": {},
   "outputs": [],
   "source": [
    "sorted_labels = filtered_labels.sort_values(by='bookingID')\n",
    "sorted_bookingIDs = sorted_labels['bookingID']\n",
    "filtered_telematics = filtered_telematics.sort_values(by=['bookingID','second'])\n",
    "df['speed_max_change'] = \\\n",
    "    [filtered_telematics[filtered_telematics['bookingID'] == bid]['Speed'].diff().abs().max() for bid in sorted_bookingIDs]\n",
    "df['acceleration_max_change'] = \\\n",
    "    [filtered_telematics[filtered_telematics['bookingID'] == bid]['acceleration'].diff().abs().max() for bid in sorted_bookingIDs]\n",
    "df['gyro_max_change'] = \\\n",
    "    [filtered_telematics[filtered_telematics['bookingID'] == bid]['gyro'].diff().abs().max() for bid in sorted_bookingIDs]"
   ]
  },
  {
   "cell_type": "code",
   "execution_count": 20,
   "metadata": {},
   "outputs": [],
   "source": [
    "df['label'] = sorted_labels['label'].tolist()"
   ]
  },
  {
   "cell_type": "code",
   "execution_count": 21,
   "metadata": {},
   "outputs": [
    {
     "data": {
      "text/html": [
       "<div>\n",
       "<style scoped>\n",
       "    .dataframe tbody tr th:only-of-type {\n",
       "        vertical-align: middle;\n",
       "    }\n",
       "\n",
       "    .dataframe tbody tr th {\n",
       "        vertical-align: top;\n",
       "    }\n",
       "\n",
       "    .dataframe thead th {\n",
       "        text-align: right;\n",
       "    }\n",
       "</style>\n",
       "<table border=\"1\" class=\"dataframe\">\n",
       "  <thead>\n",
       "    <tr style=\"text-align: right;\">\n",
       "      <th></th>\n",
       "      <th>speed_max</th>\n",
       "      <th>speed_mean</th>\n",
       "      <th>speed_iqr</th>\n",
       "      <th>acceleration_max</th>\n",
       "      <th>acceleration_mean</th>\n",
       "      <th>acceleration_iqr</th>\n",
       "      <th>gyro_max</th>\n",
       "      <th>gyro_mean</th>\n",
       "      <th>gyro_iqr</th>\n",
       "      <th>duration</th>\n",
       "      <th>distance</th>\n",
       "      <th>rotation</th>\n",
       "      <th>speed_max_change</th>\n",
       "      <th>acceleration_max_change</th>\n",
       "      <th>gyro_max_change</th>\n",
       "      <th>label</th>\n",
       "    </tr>\n",
       "    <tr>\n",
       "      <th>bookingID</th>\n",
       "      <th></th>\n",
       "      <th></th>\n",
       "      <th></th>\n",
       "      <th></th>\n",
       "      <th></th>\n",
       "      <th></th>\n",
       "      <th></th>\n",
       "      <th></th>\n",
       "      <th></th>\n",
       "      <th></th>\n",
       "      <th></th>\n",
       "      <th></th>\n",
       "      <th></th>\n",
       "      <th></th>\n",
       "      <th></th>\n",
       "      <th></th>\n",
       "    </tr>\n",
       "  </thead>\n",
       "  <tbody>\n",
       "    <tr>\n",
       "      <th>0</th>\n",
       "      <td>22.946083</td>\n",
       "      <td>9.004787</td>\n",
       "      <td>14.045310</td>\n",
       "      <td>12.988328</td>\n",
       "      <td>9.885882</td>\n",
       "      <td>0.514161</td>\n",
       "      <td>0.749086</td>\n",
       "      <td>0.100750</td>\n",
       "      <td>0.096470</td>\n",
       "      <td>1589.0</td>\n",
       "      <td>14308.606323</td>\n",
       "      <td>160.091793</td>\n",
       "      <td>6.581142</td>\n",
       "      <td>4.325513</td>\n",
       "      <td>0.687351</td>\n",
       "      <td>0</td>\n",
       "    </tr>\n",
       "    <tr>\n",
       "      <th>1</th>\n",
       "      <td>21.882141</td>\n",
       "      <td>8.019369</td>\n",
       "      <td>13.779108</td>\n",
       "      <td>12.790147</td>\n",
       "      <td>9.865608</td>\n",
       "      <td>0.508920</td>\n",
       "      <td>0.717864</td>\n",
       "      <td>0.065834</td>\n",
       "      <td>0.057357</td>\n",
       "      <td>1034.0</td>\n",
       "      <td>8292.027559</td>\n",
       "      <td>68.072162</td>\n",
       "      <td>4.188555</td>\n",
       "      <td>3.155147</td>\n",
       "      <td>0.410784</td>\n",
       "      <td>1</td>\n",
       "    </tr>\n",
       "    <tr>\n",
       "      <th>2</th>\n",
       "      <td>9.360483</td>\n",
       "      <td>3.157213</td>\n",
       "      <td>5.299983</td>\n",
       "      <td>13.403410</td>\n",
       "      <td>9.929590</td>\n",
       "      <td>0.254258</td>\n",
       "      <td>0.463685</td>\n",
       "      <td>0.097433</td>\n",
       "      <td>0.099728</td>\n",
       "      <td>825.0</td>\n",
       "      <td>2604.700695</td>\n",
       "      <td>80.382189</td>\n",
       "      <td>4.439833</td>\n",
       "      <td>4.343012</td>\n",
       "      <td>0.348618</td>\n",
       "      <td>1</td>\n",
       "    </tr>\n",
       "    <tr>\n",
       "      <th>4</th>\n",
       "      <td>19.780001</td>\n",
       "      <td>6.150996</td>\n",
       "      <td>8.032500</td>\n",
       "      <td>21.053265</td>\n",
       "      <td>9.813434</td>\n",
       "      <td>0.374268</td>\n",
       "      <td>0.661675</td>\n",
       "      <td>0.108875</td>\n",
       "      <td>0.085304</td>\n",
       "      <td>1094.0</td>\n",
       "      <td>6729.190006</td>\n",
       "      <td>119.109484</td>\n",
       "      <td>4.910000</td>\n",
       "      <td>12.351788</td>\n",
       "      <td>0.574858</td>\n",
       "      <td>1</td>\n",
       "    </tr>\n",
       "    <tr>\n",
       "      <th>6</th>\n",
       "      <td>16.394695</td>\n",
       "      <td>4.628921</td>\n",
       "      <td>9.217060</td>\n",
       "      <td>14.498268</td>\n",
       "      <td>9.918090</td>\n",
       "      <td>0.531936</td>\n",
       "      <td>0.626294</td>\n",
       "      <td>0.089589</td>\n",
       "      <td>0.086697</td>\n",
       "      <td>1094.0</td>\n",
       "      <td>5064.040117</td>\n",
       "      <td>98.009978</td>\n",
       "      <td>3.744509</td>\n",
       "      <td>4.896011</td>\n",
       "      <td>0.431296</td>\n",
       "      <td>0</td>\n",
       "    </tr>\n",
       "  </tbody>\n",
       "</table>\n",
       "</div>"
      ],
      "text/plain": [
       "           speed_max  speed_mean  speed_iqr  acceleration_max  \\\n",
       "bookingID                                                       \n",
       "0          22.946083    9.004787  14.045310         12.988328   \n",
       "1          21.882141    8.019369  13.779108         12.790147   \n",
       "2           9.360483    3.157213   5.299983         13.403410   \n",
       "4          19.780001    6.150996   8.032500         21.053265   \n",
       "6          16.394695    4.628921   9.217060         14.498268   \n",
       "\n",
       "           acceleration_mean  acceleration_iqr  gyro_max  gyro_mean  gyro_iqr  \\\n",
       "bookingID                                                                       \n",
       "0                   9.885882          0.514161  0.749086   0.100750  0.096470   \n",
       "1                   9.865608          0.508920  0.717864   0.065834  0.057357   \n",
       "2                   9.929590          0.254258  0.463685   0.097433  0.099728   \n",
       "4                   9.813434          0.374268  0.661675   0.108875  0.085304   \n",
       "6                   9.918090          0.531936  0.626294   0.089589  0.086697   \n",
       "\n",
       "           duration      distance    rotation  speed_max_change  \\\n",
       "bookingID                                                         \n",
       "0            1589.0  14308.606323  160.091793          6.581142   \n",
       "1            1034.0   8292.027559   68.072162          4.188555   \n",
       "2             825.0   2604.700695   80.382189          4.439833   \n",
       "4            1094.0   6729.190006  119.109484          4.910000   \n",
       "6            1094.0   5064.040117   98.009978          3.744509   \n",
       "\n",
       "           acceleration_max_change  gyro_max_change  label  \n",
       "bookingID                                                   \n",
       "0                         4.325513         0.687351      0  \n",
       "1                         3.155147         0.410784      1  \n",
       "2                         4.343012         0.348618      1  \n",
       "4                        12.351788         0.574858      1  \n",
       "6                         4.896011         0.431296      0  "
      ]
     },
     "execution_count": 21,
     "metadata": {},
     "output_type": "execute_result"
    }
   ],
   "source": [
    "df.head()"
   ]
  },
  {
   "cell_type": "code",
   "execution_count": 22,
   "metadata": {},
   "outputs": [
    {
     "name": "stdout",
     "output_type": "stream",
     "text": [
      "<class 'pandas.core.frame.DataFrame'>\n",
      "Int64Index: 19959 entries, 0 to 1709396983975\n",
      "Data columns (total 16 columns):\n",
      "speed_max                  19959 non-null float64\n",
      "speed_mean                 19959 non-null float64\n",
      "speed_iqr                  19959 non-null float64\n",
      "acceleration_max           19959 non-null float64\n",
      "acceleration_mean          19959 non-null float64\n",
      "acceleration_iqr           19959 non-null float64\n",
      "gyro_max                   19959 non-null float64\n",
      "gyro_mean                  19959 non-null float64\n",
      "gyro_iqr                   19959 non-null float64\n",
      "duration                   19959 non-null float64\n",
      "distance                   19959 non-null float64\n",
      "rotation                   19959 non-null float64\n",
      "speed_max_change           19959 non-null float64\n",
      "acceleration_max_change    19959 non-null float64\n",
      "gyro_max_change            19959 non-null float64\n",
      "label                      19959 non-null int64\n",
      "dtypes: float64(15), int64(1)\n",
      "memory usage: 2.6 MB\n"
     ]
    }
   ],
   "source": [
    "df.info()"
   ]
  },
  {
   "cell_type": "code",
   "execution_count": 23,
   "metadata": {},
   "outputs": [],
   "source": [
    "df.to_csv(OUTPUT_FEATURES)"
   ]
  }
 ],
 "metadata": {
  "kernelspec": {
   "display_name": "Python 3",
   "language": "python",
   "name": "python3"
  },
  "language_info": {
   "codemirror_mode": {
    "name": "ipython",
    "version": 3
   },
   "file_extension": ".py",
   "mimetype": "text/x-python",
   "name": "python",
   "nbconvert_exporter": "python",
   "pygments_lexer": "ipython3",
   "version": "3.6.5"
  }
 },
 "nbformat": 4,
 "nbformat_minor": 2
}
