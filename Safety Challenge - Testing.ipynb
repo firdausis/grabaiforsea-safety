{
 "cells": [
  {
   "cell_type": "markdown",
   "metadata": {},
   "source": [
    "<h1>Safety Challenge - Testing</h1>"
   ]
  },
  {
   "cell_type": "markdown",
   "metadata": {},
   "source": [
    "This is the testing step of my submission for the [Grab AI for SEA - Safety Challenge](https://www.aiforsea.com/safety). Given a testing feature file produced by the preprocessing step and a model produced by the training step, this will measure the model performance."
   ]
  },
  {
   "cell_type": "code",
   "execution_count": 1,
   "metadata": {},
   "outputs": [],
   "source": [
    "INPUT_FEATURE = 'dataset-ready.csv'\n",
    "INPUT_MODEL = 'xgb.model'"
   ]
  },
  {
   "cell_type": "markdown",
   "metadata": {},
   "source": [
    "<h3>Import Libraries</h3>"
   ]
  },
  {
   "cell_type": "code",
   "execution_count": 2,
   "metadata": {},
   "outputs": [],
   "source": [
    "import pandas as pd\n",
    "import pickle\n",
    "from xgboost import XGBClassifier\n",
    "from sklearn.metrics import roc_auc_score"
   ]
  },
  {
   "cell_type": "markdown",
   "metadata": {},
   "source": [
    "<h3>Load Data</h3>"
   ]
  },
  {
   "cell_type": "code",
   "execution_count": 3,
   "metadata": {},
   "outputs": [
    {
     "data": {
      "text/html": [
       "<div>\n",
       "<style scoped>\n",
       "    .dataframe tbody tr th:only-of-type {\n",
       "        vertical-align: middle;\n",
       "    }\n",
       "\n",
       "    .dataframe tbody tr th {\n",
       "        vertical-align: top;\n",
       "    }\n",
       "\n",
       "    .dataframe thead th {\n",
       "        text-align: right;\n",
       "    }\n",
       "</style>\n",
       "<table border=\"1\" class=\"dataframe\">\n",
       "  <thead>\n",
       "    <tr style=\"text-align: right;\">\n",
       "      <th></th>\n",
       "      <th>bookingID</th>\n",
       "      <th>speed_max</th>\n",
       "      <th>speed_mean</th>\n",
       "      <th>speed_iqr</th>\n",
       "      <th>acceleration_max</th>\n",
       "      <th>acceleration_mean</th>\n",
       "      <th>acceleration_iqr</th>\n",
       "      <th>gyro_max</th>\n",
       "      <th>gyro_mean</th>\n",
       "      <th>gyro_iqr</th>\n",
       "      <th>duration</th>\n",
       "      <th>distance</th>\n",
       "      <th>rotation</th>\n",
       "      <th>speed_max_change</th>\n",
       "      <th>acceleration_max_change</th>\n",
       "      <th>gyro_max_change</th>\n",
       "      <th>label</th>\n",
       "    </tr>\n",
       "  </thead>\n",
       "  <tbody>\n",
       "    <tr>\n",
       "      <th>0</th>\n",
       "      <td>0</td>\n",
       "      <td>22.946083</td>\n",
       "      <td>9.004787</td>\n",
       "      <td>14.045310</td>\n",
       "      <td>12.988328</td>\n",
       "      <td>9.885882</td>\n",
       "      <td>0.514161</td>\n",
       "      <td>0.749086</td>\n",
       "      <td>0.100750</td>\n",
       "      <td>0.096470</td>\n",
       "      <td>1589.0</td>\n",
       "      <td>14308.606323</td>\n",
       "      <td>160.091793</td>\n",
       "      <td>6.581142</td>\n",
       "      <td>4.325513</td>\n",
       "      <td>0.687351</td>\n",
       "      <td>0</td>\n",
       "    </tr>\n",
       "    <tr>\n",
       "      <th>1</th>\n",
       "      <td>1</td>\n",
       "      <td>21.882141</td>\n",
       "      <td>8.019369</td>\n",
       "      <td>13.779108</td>\n",
       "      <td>12.790147</td>\n",
       "      <td>9.865608</td>\n",
       "      <td>0.508920</td>\n",
       "      <td>0.717864</td>\n",
       "      <td>0.065834</td>\n",
       "      <td>0.057357</td>\n",
       "      <td>1034.0</td>\n",
       "      <td>8292.027559</td>\n",
       "      <td>68.072162</td>\n",
       "      <td>4.188555</td>\n",
       "      <td>3.155147</td>\n",
       "      <td>0.410784</td>\n",
       "      <td>1</td>\n",
       "    </tr>\n",
       "    <tr>\n",
       "      <th>2</th>\n",
       "      <td>2</td>\n",
       "      <td>9.360483</td>\n",
       "      <td>3.157213</td>\n",
       "      <td>5.299983</td>\n",
       "      <td>13.403410</td>\n",
       "      <td>9.929590</td>\n",
       "      <td>0.254258</td>\n",
       "      <td>0.463685</td>\n",
       "      <td>0.097433</td>\n",
       "      <td>0.099728</td>\n",
       "      <td>825.0</td>\n",
       "      <td>2604.700695</td>\n",
       "      <td>80.382189</td>\n",
       "      <td>4.439833</td>\n",
       "      <td>4.343012</td>\n",
       "      <td>0.348618</td>\n",
       "      <td>1</td>\n",
       "    </tr>\n",
       "    <tr>\n",
       "      <th>3</th>\n",
       "      <td>4</td>\n",
       "      <td>19.780001</td>\n",
       "      <td>6.150996</td>\n",
       "      <td>8.032500</td>\n",
       "      <td>21.053265</td>\n",
       "      <td>9.813434</td>\n",
       "      <td>0.374268</td>\n",
       "      <td>0.661675</td>\n",
       "      <td>0.108875</td>\n",
       "      <td>0.085304</td>\n",
       "      <td>1094.0</td>\n",
       "      <td>6729.190006</td>\n",
       "      <td>119.109484</td>\n",
       "      <td>4.910000</td>\n",
       "      <td>12.351788</td>\n",
       "      <td>0.574858</td>\n",
       "      <td>1</td>\n",
       "    </tr>\n",
       "    <tr>\n",
       "      <th>4</th>\n",
       "      <td>6</td>\n",
       "      <td>16.394695</td>\n",
       "      <td>4.628921</td>\n",
       "      <td>9.217060</td>\n",
       "      <td>14.498268</td>\n",
       "      <td>9.918090</td>\n",
       "      <td>0.531936</td>\n",
       "      <td>0.626294</td>\n",
       "      <td>0.089589</td>\n",
       "      <td>0.086697</td>\n",
       "      <td>1094.0</td>\n",
       "      <td>5064.040117</td>\n",
       "      <td>98.009978</td>\n",
       "      <td>3.744509</td>\n",
       "      <td>4.896011</td>\n",
       "      <td>0.431296</td>\n",
       "      <td>0</td>\n",
       "    </tr>\n",
       "  </tbody>\n",
       "</table>\n",
       "</div>"
      ],
      "text/plain": [
       "   bookingID  speed_max  speed_mean  speed_iqr  acceleration_max  \\\n",
       "0          0  22.946083    9.004787  14.045310         12.988328   \n",
       "1          1  21.882141    8.019369  13.779108         12.790147   \n",
       "2          2   9.360483    3.157213   5.299983         13.403410   \n",
       "3          4  19.780001    6.150996   8.032500         21.053265   \n",
       "4          6  16.394695    4.628921   9.217060         14.498268   \n",
       "\n",
       "   acceleration_mean  acceleration_iqr  gyro_max  gyro_mean  gyro_iqr  \\\n",
       "0           9.885882          0.514161  0.749086   0.100750  0.096470   \n",
       "1           9.865608          0.508920  0.717864   0.065834  0.057357   \n",
       "2           9.929590          0.254258  0.463685   0.097433  0.099728   \n",
       "3           9.813434          0.374268  0.661675   0.108875  0.085304   \n",
       "4           9.918090          0.531936  0.626294   0.089589  0.086697   \n",
       "\n",
       "   duration      distance    rotation  speed_max_change  \\\n",
       "0    1589.0  14308.606323  160.091793          6.581142   \n",
       "1    1034.0   8292.027559   68.072162          4.188555   \n",
       "2     825.0   2604.700695   80.382189          4.439833   \n",
       "3    1094.0   6729.190006  119.109484          4.910000   \n",
       "4    1094.0   5064.040117   98.009978          3.744509   \n",
       "\n",
       "   acceleration_max_change  gyro_max_change  label  \n",
       "0                 4.325513         0.687351      0  \n",
       "1                 3.155147         0.410784      1  \n",
       "2                 4.343012         0.348618      1  \n",
       "3                12.351788         0.574858      1  \n",
       "4                 4.896011         0.431296      0  "
      ]
     },
     "execution_count": 3,
     "metadata": {},
     "output_type": "execute_result"
    }
   ],
   "source": [
    "df = pd.read_csv(INPUT_FEATURE)\n",
    "df.head()"
   ]
  },
  {
   "cell_type": "markdown",
   "metadata": {},
   "source": [
    "<h3>Load Model</h3>"
   ]
  },
  {
   "cell_type": "code",
   "execution_count": 4,
   "metadata": {},
   "outputs": [],
   "source": [
    "model_file = open(INPUT_MODEL,'rb')\n",
    "model = pickle.load(model_file)\n",
    "model_file.close()"
   ]
  },
  {
   "cell_type": "markdown",
   "metadata": {},
   "source": [
    "<h3>Evaluation</h3>"
   ]
  },
  {
   "cell_type": "code",
   "execution_count": 5,
   "metadata": {},
   "outputs": [
    {
     "name": "stdout",
     "output_type": "stream",
     "text": [
      "accuracy:  0.7870133774237186\n",
      "ROC-AUC score:  0.7509542125384427\n"
     ]
    }
   ],
   "source": [
    "X = df.drop(['bookingID', 'label'], axis=1)\n",
    "y = df['label']\n",
    "print('accuracy: ', model.score(X, y))\n",
    "print('ROC-AUC score: ', roc_auc_score(y, model.predict_proba(X)[:,1]))"
   ]
  }
 ],
 "metadata": {
  "kernelspec": {
   "display_name": "Python 3",
   "language": "python",
   "name": "python3"
  },
  "language_info": {
   "codemirror_mode": {
    "name": "ipython",
    "version": 3
   },
   "file_extension": ".py",
   "mimetype": "text/x-python",
   "name": "python",
   "nbconvert_exporter": "python",
   "pygments_lexer": "ipython3",
   "version": "3.6.5"
  }
 },
 "nbformat": 4,
 "nbformat_minor": 2
}
